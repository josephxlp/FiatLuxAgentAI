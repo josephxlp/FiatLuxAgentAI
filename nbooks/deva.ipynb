{
 "cells": [
  {
   "cell_type": "code",
   "execution_count": 1,
   "id": "5231ce6f",
   "metadata": {},
   "outputs": [
    {
     "name": "stdout",
     "output_type": "stream",
     "text": [
      "Python 3.10.0\n"
     ]
    }
   ],
   "source": [
    "!python --version"
   ]
  },
  {
   "cell_type": "code",
   "execution_count": 2,
   "id": "7d7a682c",
   "metadata": {},
   "outputs": [],
   "source": [
    "from dotenv import load_dotenv\n",
    "import os "
   ]
  },
  {
   "cell_type": "code",
   "execution_count": 3,
   "id": "ce68bb26",
   "metadata": {},
   "outputs": [
    {
     "name": "stdout",
     "output_type": "stream",
     "text": [
      "API Key Loaded: Yes\n"
     ]
    }
   ],
   "source": [
    "load_dotenv()  # Load environment variables from .env file\n",
    "\n",
    "openai_api_key = os.getenv(\"OPENAI_API_KEY\")\n",
    "print(\"API Key Loaded:\", \"Yes\" if openai_api_key else \"No\")"
   ]
  },
  {
   "cell_type": "code",
   "execution_count": 4,
   "id": "37a0f2b3",
   "metadata": {},
   "outputs": [
    {
     "name": "stdout",
     "output_type": "stream",
     "text": [
      "Summarize this: AI agents help automate tasks.\n"
     ]
    }
   ],
   "source": [
    "from langchain import PromptTemplate\n",
    "\n",
    "# Create a reusable prompt structure\n",
    "prompt = PromptTemplate(\n",
    "    input_variables=[\"text\"],\n",
    "    template=\"Summarize this: {text}\"\n",
    ")\n",
    "\n",
    "# Use the prompt\n",
    "output = prompt.format(text=\"AI agents help automate tasks.\")\n",
    "print(output)"
   ]
  },
  {
   "cell_type": "code",
   "execution_count": 5,
   "id": "25e83bc6",
   "metadata": {},
   "outputs": [
    {
     "name": "stderr",
     "output_type": "stream",
     "text": [
      "C:\\Users\\Joseph\\AppData\\Local\\Temp\\ipykernel_15664\\1414793693.py:3: LangChainDeprecationWarning: The class `OpenAI` was deprecated in LangChain 0.0.10 and will be removed in 1.0. An updated version of the class exists in the :class:`~langchain-openai package and should be used instead. To use it run `pip install -U :class:`~langchain-openai` and import as `from :class:`~langchain_openai import OpenAI``.\n",
      "  llm = OpenAI(api_key=openai_api_key)\n",
      "C:\\Users\\Joseph\\AppData\\Local\\Temp\\ipykernel_15664\\1414793693.py:4: LangChainDeprecationWarning: The method `BaseLLM.__call__` was deprecated in langchain-core 0.1.7 and will be removed in 1.0. Use :meth:`~invoke` instead.\n",
      "  response = llm(\"What is 2 + 2?\")\n"
     ]
    },
    {
     "name": "stdout",
     "output_type": "stream",
     "text": [
      "Response from GPT-4: \n",
      "\n",
      "2 + 2 = 4\n"
     ]
    }
   ],
   "source": [
    "from langchain.llms import OpenAI\n",
    "\n",
    "llm = OpenAI(api_key=openai_api_key)\n",
    "response = llm(\"What is 2 + 2?\")\n",
    "print(\"Response from GPT-4:\", response)"
   ]
  },
  {
   "cell_type": "code",
   "execution_count": 8,
   "id": "1e969577",
   "metadata": {},
   "outputs": [],
   "source": [
    "from langchain.llms import OpenAI\n",
    "from langchain.prompts import PromptTemplate"
   ]
  },
  {
   "cell_type": "code",
   "execution_count": 9,
   "id": "c96ec30c",
   "metadata": {},
   "outputs": [],
   "source": [
    "prompt = PromptTemplate(\n",
    "    input_variables=['question'],\n",
    "    template=\"Answer this question {question}\"\n",
    ")"
   ]
  },
  {
   "cell_type": "code",
   "execution_count": 10,
   "id": "57d19953",
   "metadata": {},
   "outputs": [],
   "source": [
    "llm = OpenAI(api_key=openai_api_key)\n",
    "chain = prompt | llm"
   ]
  },
  {
   "cell_type": "code",
   "execution_count": 11,
   "id": "58ee7e8f",
   "metadata": {},
   "outputs": [
    {
     "name": "stdout",
     "output_type": "stream",
     "text": [
      "response: \n",
      "\n",
      "Love is a complex and multifaceted emotion that encompasses a deep affection, care, and attachment towards someone or something. It involves feelings of warmth, happiness, and a strong desire to support and be with the person or thing you love. Love can also include sacrifice, understanding, and forgiveness. It can come in many forms, such as romantic love, familial love, and platonic love. Ultimately, love is a powerful force that brings people together and creates meaningful connections.\n"
     ]
    }
   ],
   "source": [
    "response = chain.invoke({\"question\": \"what's love?\"})\n",
    "print(\"response:\", response)"
   ]
  },
  {
   "cell_type": "code",
   "execution_count": 13,
   "id": "7775ed13",
   "metadata": {},
   "outputs": [
    {
     "name": "stdout",
     "output_type": "stream",
     "text": [
      "Response: \n",
      "\n",
      "Christianity is a monotheistic religion based on the life and teachings of Jesus Christ, centered around love, forgiveness, and salvation through faith.\n"
     ]
    }
   ],
   "source": [
    "prompt = PromptTemplate(\n",
    "    input_variables=[\"topic\"],\n",
    "    template=\"Summarize {topic} in 20 words or less.\"\n",
    ")\n",
    "llm = OpenAI(api_key=openai_api_key)\n",
    "chain = prompt | llm\n",
    "\n",
    "response = chain.invoke({\"topic\": \"Christianity\"})\n",
    "print(\"Response:\", response)"
   ]
  },
  {
   "cell_type": "code",
   "execution_count": 15,
   "id": "753d7a46",
   "metadata": {},
   "outputs": [],
   "source": [
    "%reset -f"
   ]
  },
  {
   "cell_type": "markdown",
   "id": "c14ebc27",
   "metadata": {},
   "source": [
    "L3: Adding Memory to Agents with LangChain\n",
    "\n",
    "Memory allows your agents to remember past conversations, making them more interactive and intelligent.\n"
   ]
  },
  {
   "cell_type": "code",
   "execution_count": 18,
   "id": "5b5b94fb",
   "metadata": {},
   "outputs": [],
   "source": [
    "from dotenv import load_dotenv\n",
    "import os\n",
    "\n",
    "load_dotenv()\n",
    "openai_api_key = os.getenv(\"OPENAI_API_KEY\")"
   ]
  },
  {
   "cell_type": "code",
   "execution_count": 19,
   "id": "3f43759a",
   "metadata": {},
   "outputs": [],
   "source": [
    "from langchain.llms import OpenAI\n",
    "from langchain.chains import ConversationChain"
   ]
  },
  {
   "cell_type": "code",
   "execution_count": 20,
   "id": "88841e1b",
   "metadata": {},
   "outputs": [],
   "source": [
    "llm = OpenAI(api_key=openai_api_key)"
   ]
  },
  {
   "cell_type": "code",
   "execution_count": 21,
   "id": "8b8a71b8",
   "metadata": {},
   "outputs": [
    {
     "name": "stderr",
     "output_type": "stream",
     "text": [
      "C:\\Users\\Joseph\\AppData\\Local\\Temp\\ipykernel_15664\\4231297187.py:1: LangChainDeprecationWarning: The class `ConversationChain` was deprecated in LangChain 0.2.7 and will be removed in 1.0. Use :meth:`~RunnableWithMessageHistory: https://python.langchain.com/v0.2/api_reference/core/runnables/langchain_core.runnables.history.RunnableWithMessageHistory.html` instead.\n",
      "  chain = ConversationChain(llm=llm)\n",
      "c:\\Users\\Joseph\\miniforge3\\envs\\agentsai\\lib\\site-packages\\pydantic\\main.py:214: LangChainDeprecationWarning: Please see the migration guide at: https://python.langchain.com/docs/versions/migrating_memory/\n",
      "  validated_self = self.__pydantic_validator__.validate_python(data, self_instance=self)\n"
     ]
    }
   ],
   "source": [
    "chain = ConversationChain(llm=llm)"
   ]
  },
  {
   "cell_type": "code",
   "execution_count": 23,
   "id": "3bbe5494",
   "metadata": {},
   "outputs": [
    {
     "data": {
      "text/plain": [
       "' Nice to meet you, Fiel! Is there anything specific you would like to know or talk about? I have access to a vast amount of information and can provide detailed answers to your questions.'"
      ]
     },
     "execution_count": 23,
     "metadata": {},
     "output_type": "execute_result"
    }
   ],
   "source": [
    "chain.run('my name is fiel')"
   ]
  },
  {
   "cell_type": "code",
   "execution_count": 26,
   "id": "a42725b5",
   "metadata": {},
   "outputs": [
    {
     "data": {
      "text/plain": [
       "' My name is Alpha. I am an AI created by OpenAI. Is there anything else you would like to know?'"
      ]
     },
     "execution_count": 26,
     "metadata": {},
     "output_type": "execute_result"
    }
   ],
   "source": [
    "chain.run('What is your name? Be concide in your answer')"
   ]
  },
  {
   "cell_type": "code",
   "execution_count": 27,
   "id": "3afac445",
   "metadata": {},
   "outputs": [
    {
     "data": {
      "text/plain": [
       "' I do not have the capability to remember information about individuals unless it is stored in my database. Can you please tell me your name again?'"
      ]
     },
     "execution_count": 27,
     "metadata": {},
     "output_type": "execute_result"
    }
   ],
   "source": [
    "chain.run('Do you remember my name? what is it?')"
   ]
  },
  {
   "cell_type": "code",
   "execution_count": 28,
   "id": "d16ed02b",
   "metadata": {},
   "outputs": [
    {
     "data": {
      "text/plain": [
       "'  Nice to meet you again, Fiel! Is there anything else you would like to know or discuss?'"
      ]
     },
     "execution_count": 28,
     "metadata": {},
     "output_type": "execute_result"
    }
   ],
   "source": [
    "chain.run('my name is fiel')"
   ]
  },
  {
   "cell_type": "code",
   "execution_count": 29,
   "id": "ca0c5e9c",
   "metadata": {},
   "outputs": [
    {
     "data": {
      "text/plain": [
       "' As I mentioned before, I do not have the capability to remember information about individuals unless it is stored in my database. However, you have told me your name is Fiel. Is there anything else you would like to know?'"
      ]
     },
     "execution_count": 29,
     "metadata": {},
     "output_type": "execute_result"
    }
   ],
   "source": [
    "chain.run('Do you remember my name? what is it?')"
   ]
  },
  {
   "cell_type": "code",
   "execution_count": 30,
   "id": "9a0b3ab0",
   "metadata": {},
   "outputs": [
    {
     "name": "stdout",
     "output_type": "stream",
     "text": [
      " Nice to meet you, Alex! Is there anything you would like to know or discuss?\n"
     ]
    }
   ],
   "source": [
    "print(chain.run(\"My name is Alex.\"))"
   ]
  },
  {
   "cell_type": "code",
   "execution_count": 31,
   "id": "5047e9a0",
   "metadata": {},
   "outputs": [
    {
     "name": "stdout",
     "output_type": "stream",
     "text": [
      "  As I mentioned before, I am not capable of remembering information about individuals unless it is stored in my database. Can you please tell me your name again?\n"
     ]
    }
   ],
   "source": [
    "print(chain.run(\"What’s my name?\"))\n",
    "     "
   ]
  },
  {
   "cell_type": "code",
   "execution_count": 32,
   "id": "a77f44b8",
   "metadata": {},
   "outputs": [],
   "source": [
    "# it doesn't seem to remember stuff"
   ]
  },
  {
   "cell_type": "code",
   "execution_count": 33,
   "id": "f7c3ba36",
   "metadata": {},
   "outputs": [],
   "source": [
    "%reset -f"
   ]
  },
  {
   "cell_type": "code",
   "execution_count": 34,
   "id": "6274733b",
   "metadata": {},
   "outputs": [],
   "source": [
    "from dotenv import load_dotenv\n",
    "import os\n",
    "\n",
    "load_dotenv()\n",
    "openai_api_key = os.getenv(\"OPENAI_API_KEY\")"
   ]
  },
  {
   "cell_type": "code",
   "execution_count": 35,
   "id": "c345b4e2",
   "metadata": {},
   "outputs": [],
   "source": [
    "from langchain.llms import OpenAI\n",
    "from langchain.prompts import PromptTemplate\n",
    "from langchain.chains import ConversationChain\n",
    "     "
   ]
  },
  {
   "cell_type": "code",
   "execution_count": 36,
   "id": "85a9efb8",
   "metadata": {},
   "outputs": [],
   "source": [
    "prompt = PromptTemplate(\n",
    "    input_variables=[\"history\", \"input\"],\n",
    "    template=\"With this history: {history}, answer in a friendly tone: {input}\"\n",
    ")"
   ]
  },
  {
   "cell_type": "code",
   "execution_count": 37,
   "id": "2cf8975b",
   "metadata": {},
   "outputs": [],
   "source": [
    "llm = OpenAI(api_key=openai_api_key)\n",
    "chain = ConversationChain(llm=llm, prompt=prompt)"
   ]
  },
  {
   "cell_type": "code",
   "execution_count": 38,
   "id": "a9ee9e86",
   "metadata": {},
   "outputs": [
    {
     "name": "stdout",
     "output_type": "stream",
     "text": [
      "\n",
      "\n",
      "Hi Sarah! It's nice to meet you. How are you doing today?\n"
     ]
    }
   ],
   "source": [
    "print(chain.run(\"Hi, I’m Sarah.\"))"
   ]
  },
  {
   "cell_type": "code",
   "execution_count": 39,
   "id": "fb471223",
   "metadata": {},
   "outputs": [
    {
     "name": "stdout",
     "output_type": "stream",
     "text": [
      "\n",
      "\n",
      "Your name is AI!\n"
     ]
    }
   ],
   "source": [
    "print(chain.run(\"What’s my name?\"))"
   ]
  },
  {
   "cell_type": "code",
   "execution_count": 41,
   "id": "2bbc7a60",
   "metadata": {},
   "outputs": [
    {
     "name": "stdout",
     "output_type": "stream",
     "text": [
      " It's up to you, Sarah! What sounds like fun to you?\n"
     ]
    }
   ],
   "source": [
    "print(chain.run(\"What should I do today?\"))"
   ]
  },
  {
   "cell_type": "markdown",
   "id": "e64e7895",
   "metadata": {},
   "source": [
    "L4: Enhancing Langflow Workflows with Tools and Debugging\n",
    "\n",
    "we'll enhance your Langflow agents by adding external tools (like weather APIs) and learn how to debug workflows for reliability.\n",
    "\n",
    "    - Sign up at openweathermap.org\n",
    "    - Generate a free API key\n",
    "    - Save the key in your .env file as OPENWEATHERMAP_API_KEY=your_key_here"
   ]
  },
  {
   "cell_type": "code",
   "execution_count": 42,
   "id": "9ad76a64",
   "metadata": {},
   "outputs": [],
   "source": [
    "# i'm here @https://github.com/pragatidev/AIAgentsBootcamp/tree/master/Section_5_Autonomous_Workflows"
   ]
  },
  {
   "cell_type": "code",
   "execution_count": null,
   "id": "dcbd34c1",
   "metadata": {},
   "outputs": [],
   "source": []
  }
 ],
 "metadata": {
  "kernelspec": {
   "display_name": "agentsai",
   "language": "python",
   "name": "python3"
  },
  "language_info": {
   "codemirror_mode": {
    "name": "ipython",
    "version": 3
   },
   "file_extension": ".py",
   "mimetype": "text/x-python",
   "name": "python",
   "nbconvert_exporter": "python",
   "pygments_lexer": "ipython3",
   "version": "3.10.0"
  }
 },
 "nbformat": 4,
 "nbformat_minor": 5
}
