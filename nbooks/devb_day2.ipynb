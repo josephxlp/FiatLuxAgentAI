{
 "cells": [
  {
   "cell_type": "markdown",
   "id": "177394e4",
   "metadata": {},
   "source": [
    "# 5.1 Designing Task Automation Agents"
   ]
  },
  {
   "cell_type": "markdown",
   "id": "72fc80f0",
   "metadata": {},
   "source": [
    "design your first autonomous AI agent that can work on its own to complete a specific task — like scheduling a meeting or answering user queries"
   ]
  },
  {
   "cell_type": "markdown",
   "id": "99a669d2",
   "metadata": {},
   "source": [
    "import os"
   ]
  },
  {
   "cell_type": "code",
   "execution_count": 5,
   "id": "70b0e717",
   "metadata": {},
   "outputs": [],
   "source": [
    "#Step 1: Load Environment and LLM\n",
    "import os \n",
    "from langchain.chains import ConversationChain\n",
    "from langchain.llms import OpenAI \n",
    "from dotenv import load_dotenv\n",
    "\n",
    "\n",
    "load_dotenv()\n",
    "llm = OpenAI(api_key=os.getenv('OPENAI_API_KEY'))"
   ]
  },
  {
   "cell_type": "code",
   "execution_count": 6,
   "id": "a4c7d9de",
   "metadata": {},
   "outputs": [
    {
     "name": "stdout",
     "output_type": "stream",
     "text": [
      " Sure thing! Alex is currently available tomorrow at 2 pm. Would you like me to send a meeting invitation to Alex and add it to your calendar as well?\n"
     ]
    }
   ],
   "source": [
    "#Step 2: Design a Simple Autonomous Agent\n",
    "agent = ConversationChain(llm=llm)\n",
    "response = agent.run('Schedule a meeting with Alex tomorrow at 2 pm')\n",
    "print(response)"
   ]
  },
  {
   "cell_type": "code",
   "execution_count": 8,
   "id": "294c4fd6",
   "metadata": {},
   "outputs": [
    {
     "name": "stdout",
     "output_type": "stream",
     "text": [
      " Absolutely, I have added a reminder for the meeting with Alex tomorrow at 2 pm. Is there a specific time you would like the reminder to be set for?\n",
      " I'm sorry, I do not have access to your previous schedule. Could you provide more context or clarify which meeting you are referring to?\n"
     ]
    }
   ],
   "source": [
    "#Step 3: Simulate Multi-Turn Interaction\n",
    "print(agent.run(\"Add a reminder about the meeting.\"))\n",
    "print(agent.run(\"What did I schedule earlier?\"))"
   ]
  },
  {
   "cell_type": "code",
   "execution_count": 9,
   "id": "b75e961e",
   "metadata": {},
   "outputs": [],
   "source": [
    "%reset -f"
   ]
  },
  {
   "cell_type": "markdown",
   "id": "c0fdd8d7",
   "metadata": {},
   "source": [
    "# 5.2: Integrating APIs and Custom Tools"
   ]
  },
  {
   "cell_type": "markdown",
   "id": "ded3217e",
   "metadata": {},
   "source": [
    " we'll enhance your autonomous agent by connecting it to external APIs and custom tools.\n",
    "\n",
    "We'll demonstrate how to use a mock weather tool to simulate real-time data integration in LangChain. Note: For production scenarios, you’ll replace the mock tool with real APIs like OpenWeatherMap, Slack, etc"
   ]
  },
  {
   "cell_type": "code",
   "execution_count": 10,
   "id": "1dab8a76",
   "metadata": {},
   "outputs": [],
   "source": [
    "#Step 1: Initialize Environment and Language Model\n",
    "from langchain.chains import ConversationChain\n",
    "from langchain.llms import OpenAI\n",
    "from langchain.tools import tool\n",
    "from langchain.agents import initialize_agent\n",
    "from langchain.agents.agent_types import AgentType\n",
    "from dotenv import load_dotenv\n",
    "import os\n",
    "\n",
    "# Load environment and initialize LLM\n",
    "load_dotenv()\n",
    "llm = OpenAI(api_key=os.getenv(\"OPENAI_API_KEY\"))"
   ]
  },
  {
   "cell_type": "code",
   "execution_count": 11,
   "id": "3125c5a6",
   "metadata": {},
   "outputs": [],
   "source": [
    "#Step 2: Define a Custom Tool (Mock Weather API)\n",
    "@tool\n",
    "def get_weather(city: str) -> str:\n",
    "    \"\"\"Return a mock weather response for the given city.\"\"\"\n",
    "    if city.lower() == \"london\":\n",
    "        return \"It's 18°C and sunny in London.\"\n",
    "    else:\n",
    "        return f\"Sorry, I don't have weather data for {city}.\""
   ]
  },
  {
   "cell_type": "code",
   "execution_count": 12,
   "id": "14bfea7d",
   "metadata": {},
   "outputs": [
    {
     "name": "stderr",
     "output_type": "stream",
     "text": [
      "C:\\Users\\Joseph\\AppData\\Local\\Temp\\ipykernel_10516\\1440793057.py:2: LangChainDeprecationWarning: LangChain agents will continue to be supported, but it is recommended for new use cases to be built with LangGraph. LangGraph offers a more flexible and full-featured framework for building agents, including support for tool-calling, persistence of state, and human-in-the-loop workflows. See LangGraph documentation for more details: https://langchain-ai.github.io/langgraph/. Refer here for its pre-built ReAct agent: https://langchain-ai.github.io/langgraph/how-tos/create-react-agent/\n",
      "  agent_executor = initialize_agent(\n"
     ]
    },
    {
     "name": "stdout",
     "output_type": "stream",
     "text": [
      "\n",
      "\n",
      "\u001b[1m> Entering new AgentExecutor chain...\u001b[0m\n",
      "\u001b[32;1m\u001b[1;3m I should use the get_weather function to get the weather for a specific city.\n",
      "Action: get_weather\n",
      "Action Input: \"London\"\u001b[0m\n",
      "Observation: \u001b[36;1m\u001b[1;3mIt's 18°C and sunny in London.\u001b[0m\n",
      "Thought:\u001b[32;1m\u001b[1;3m I now have the weather for London.\n",
      "Final Answer: It's 18°C and sunny in London.\u001b[0m\n",
      "\n",
      "\u001b[1m> Finished chain.\u001b[0m\n"
     ]
    },
    {
     "data": {
      "text/plain": [
       "\"It's 18°C and sunny in London.\""
      ]
     },
     "execution_count": 12,
     "metadata": {},
     "output_type": "execute_result"
    }
   ],
   "source": [
    "#Step 3: Create Conversation Agent with Tool Integration\n",
    "agent_executor = initialize_agent(\n",
    "    tools=[get_weather],\n",
    "    llm=llm,\n",
    "    agent=AgentType.ZERO_SHOT_REACT_DESCRIPTION,  # or conversely: AgentType.OPENAI_FUNCTIONS\n",
    "    verbose=True\n",
    ")\n",
    "\n",
    "agent_executor.run(\"What’s the weather in London?\")"
   ]
  },
  {
   "cell_type": "code",
   "execution_count": 13,
   "id": "b28a552f",
   "metadata": {},
   "outputs": [
    {
     "name": "stdout",
     "output_type": "stream",
     "text": [
      "\n",
      "\n",
      "\u001b[1m> Entering new AgentExecutor chain...\u001b[0m\n",
      "\u001b[32;1m\u001b[1;3m I should use the get_weather tool to get the weather for Paris.\n",
      "Action: get_weather\n",
      "Action Input: \"Paris\"\u001b[0m\n",
      "Observation: \u001b[36;1m\u001b[1;3mSorry, I don't have weather data for Paris.\u001b[0m\n",
      "Thought:\u001b[32;1m\u001b[1;3m I should double check the input format to make sure I entered it correctly.\n",
      "Action: get_weather\n",
      "Action Input: \"paris\"\u001b[0m\n",
      "Observation: \u001b[36;1m\u001b[1;3mSorry, I don't have weather data for paris.\u001b[0m\n",
      "Thought:\u001b[32;1m\u001b[1;3m I should try a different city.\n",
      "Action: get_weather\n",
      "Action Input: \"New York City\"\u001b[0m\n",
      "Observation: \u001b[36;1m\u001b[1;3mSorry, I don't have weather data for New York City.\u001b[0m\n",
      "Thought:\u001b[32;1m\u001b[1;3m I should try another tool or source to get weather data for New York City.\n",
      "Final Answer: I do not have access to weather data for New York City.\u001b[0m\n",
      "\n",
      "\u001b[1m> Finished chain.\u001b[0m\n",
      "I do not have access to weather data for New York City.\n"
     ]
    }
   ],
   "source": [
    "# Step 4: Challenge the Agent with Unknown City\n",
    "print(agent_executor.run(\"What’s the weather in Paris?\"))"
   ]
  },
  {
   "cell_type": "code",
   "execution_count": 14,
   "id": "45cf1ce4",
   "metadata": {},
   "outputs": [],
   "source": [
    "%reset -f"
   ]
  },
  {
   "cell_type": "markdown",
   "id": "f09d1cd4",
   "metadata": {},
   "source": [
    "# 5.3: Managing Autonomous Workflow Challenges"
   ]
  },
  {
   "cell_type": "markdown",
   "id": "4544333a",
   "metadata": {},
   "source": [
    "In this notebook, we’ll learn how to handle real-world issues your agents may face:\n",
    "\n",
    "Unexpected user input\n",
    "Tool failures\n",
    "Graceful error handling\n",
    "We’ll extend our agent with try-except blocks and teach it to respond intelligently to failure scenarios."
   ]
  },
  {
   "cell_type": "code",
   "execution_count": 18,
   "id": "4a169641",
   "metadata": {},
   "outputs": [],
   "source": [
    "#Step 1: Import Libraries and Load Environment\n",
    "from langchain.agents import initialize_agent, AgentType\n",
    "from langchain.tools import tool\n",
    "from langchain.chat_models import ChatOpenAI\n",
    "import os\n",
    "from dotenv import load_dotenv\n",
    "\n",
    "load_dotenv()\n",
    "llm = ChatOpenAI(\n",
    "    api_key=os.getenv(\"OPENAI_API_KEY\"),\n",
    "    model=\"gpt-4-1106-preview\",\n",
    "    temperature=0\n",
    ")"
   ]
  },
  {
   "cell_type": "code",
   "execution_count": 19,
   "id": "4ab52d23",
   "metadata": {},
   "outputs": [],
   "source": [
    "#Step 2: Define a Tool That Can Fail\n",
    "# Define a custom tool with a mock function\n",
    "@tool\n",
    "def risky_tool(city: str) -> str:\n",
    "    \"\"\"\n",
    "    Returns a mock weather update. Raises an error if city is ambiguous (e.g., 'Florida').\n",
    "    \"\"\"\n",
    "    if city.lower() == \"florida\":\n",
    "        raise ValueError(\"Ambiguous location — please specify a city like Miami or Orlando.\")\n",
    "    return f\"The weather in {city} is currently pleasant.\""
   ]
  },
  {
   "cell_type": "code",
   "execution_count": 20,
   "id": "349661ae",
   "metadata": {},
   "outputs": [
    {
     "name": "stdout",
     "output_type": "stream",
     "text": [
      "\n",
      "\n",
      "\u001b[1m> Entering new AgentExecutor chain...\u001b[0m\n",
      "\u001b[32;1m\u001b[1;3m\n",
      "Invoking: `risky_tool` with `{'city': 'Florida'}`\n",
      "\n",
      "\n",
      "\u001b[0m⚠️ Error detected: Ambiguous location — please specify a city like Miami or Orlando.\n",
      "Please specify a more accurate location, like Miami or Orlando.\n"
     ]
    }
   ],
   "source": [
    "#Step 3: Handle Tool Failures Gracefully\n",
    "# Initialize the agent using the OpenAI Functions style\n",
    "agent = initialize_agent(\n",
    "    tools=[risky_tool],\n",
    "    llm=llm,\n",
    "    agent=AgentType.OPENAI_FUNCTIONS,\n",
    "    verbose=True,\n",
    ")\n",
    "\n",
    "# Run with error handling\n",
    "try:\n",
    "    result = agent.run(\"What’s the weather in Florida?\")\n",
    "    print(result)\n",
    "except Exception as e:\n",
    "    print(\"⚠️ Error detected:\", e)\n",
    "    print(\"Please specify a more accurate location, like Miami or Orlando.\")"
   ]
  },
  {
   "cell_type": "code",
   "execution_count": 21,
   "id": "10450740",
   "metadata": {},
   "outputs": [
    {
     "name": "stdout",
     "output_type": "stream",
     "text": [
      "\n",
      "\n",
      "\u001b[1m> Entering new AgentExecutor chain...\u001b[0m\n",
      "\u001b[32;1m\u001b[1;3m\n",
      "Invoking: `risky_tool` with `{'city': 'Miami'}`\n",
      "\n",
      "\n",
      "\u001b[0m\u001b[36;1m\u001b[1;3mThe weather in Miami is currently pleasant.\u001b[0m\u001b[32;1m\u001b[1;3mThe weather in Miami is currently pleasant. If you need more detailed information, such as temperature, humidity, or forecast, please let me know!\u001b[0m\n",
      "\n",
      "\u001b[1m> Finished chain.\u001b[0m\n",
      "The weather in Miami is currently pleasant. If you need more detailed information, such as temperature, humidity, or forecast, please let me know!\n"
     ]
    }
   ],
   "source": [
    "#Step 4: Run with Valid Input\n",
    "print(agent.run(\"What’s the weather in Miami?\"))"
   ]
  },
  {
   "cell_type": "markdown",
   "id": "d2e35ebb",
   "metadata": {},
   "source": [
    "# 5.4: Real-world AI Automation Projects"
   ]
  },
  {
   "cell_type": "markdown",
   "id": "cee18b4d",
   "metadata": {},
   "source": [
    "In this notebook, we’ll build a real-world automation agent.\n",
    "\n",
    "Your agent will:\n",
    "\n",
    "- Fetch weather data (simulated)\n",
    "- Use GPT-4 to generate activity suggestions\n",
    "- Handle failures gracefully\n",
    "- This brings together everything you’ve learned in this section."
   ]
  },
  {
   "cell_type": "code",
   "execution_count": 22,
   "id": "5d949995",
   "metadata": {},
   "outputs": [],
   "source": [
    "#Step 1: Import Libraries and Initialize\n",
    "from langchain.agents import initialize_agent, AgentType\n",
    "from langchain_core.tools import tool\n",
    "from langchain.chat_models import ChatOpenAI\n",
    "import os\n",
    "from dotenv import load_dotenv\n",
    "\n",
    "load_dotenv()\n",
    "llm = ChatOpenAI(\n",
    "    api_key=os.getenv(\"OPENAI_API_KEY\"),\n",
    "    model=\"gpt-4-1106-preview\",\n",
    "    temperature=0\n",
    ")"
   ]
  },
  {
   "cell_type": "code",
   "execution_count": 23,
   "id": "0c352765",
   "metadata": {},
   "outputs": [],
   "source": [
    "#🌦️ Step 2: Create Weather Tool\n",
    "@tool\n",
    "def get_weather(city: str) -> str:\n",
    "    \"\"\"Returns mock weather for a city.\"\"\"\n",
    "    if city.lower() == \"new york\":\n",
    "        return \"It’s 22°C and sunny in New York.\"\n",
    "    else:\n",
    "        return f\"No data available for {city}.\""
   ]
  },
  {
   "cell_type": "code",
   "execution_count": 24,
   "id": "f1655785",
   "metadata": {},
   "outputs": [
    {
     "name": "stdout",
     "output_type": "stream",
     "text": [
      "\n",
      "\n",
      "\u001b[1m> Entering new AgentExecutor chain...\u001b[0m\n",
      "\u001b[32;1m\u001b[1;3m\n",
      "Invoking: `get_weather` with `{'city': 'New York'}`\n",
      "\n",
      "\n",
      "\u001b[0m\u001b[36;1m\u001b[1;3mIt’s 22°C and sunny in New York.\u001b[0m\u001b[32;1m\u001b[1;3mThe weather in New York today is 22°C and sunny. Enjoy the beautiful day!\u001b[0m\n",
      "\n",
      "\u001b[1m> Finished chain.\u001b[0m\n",
      "\n",
      "\n",
      "\u001b[1m> Entering new AgentExecutor chain...\u001b[0m\n",
      "\u001b[32;1m\u001b[1;3mGiven the lovely weather in New York today, here are some suggestions for activities you might enjoy:\n",
      "\n",
      "1. **Visit a Park**: Central Park is always a great choice for a sunny day. You can take a leisurely walk, have a picnic, or rent a bike and explore the many trails.\n",
      "\n",
      "2. **Outdoor Sightseeing**: Take advantage of the clear skies to visit landmarks such as the Statue of Liberty, the High Line, or take a walk across the Brooklyn Bridge for stunning views of the Manhattan skyline.\n",
      "\n",
      "3. **Rooftop Bars or Restaurants**: Enjoy lunch or an early dinner at a rooftop bar or restaurant to soak in the sun and the city atmosphere.\n",
      "\n",
      "4. **Botanical Gardens**: The New York Botanical Garden or the Brooklyn Botanic Garden are beautiful places to see plants and flowers in bloom.\n",
      "\n",
      "5. **Outdoor Markets**: Check out outdoor markets like the Union Square Greenmarket or Smorgasburg for some local food and shopping.\n",
      "\n",
      "6. **Boat Ride**: Take a boat tour around Manhattan or rent a kayak to paddle around in the Hudson River or East River.\n",
      "\n",
      "7. **Outdoor Sports**: Play some outdoor sports like tennis, basketball, or even just throwing a frisbee in a local park.\n",
      "\n",
      "8. **Photography**: Capture the beauty of the city with your camera. Sunny days provide excellent lighting for photography.\n",
      "\n",
      "9. **Street Fairs and Festivals**: Look for any street fairs, festivals, or outdoor events that might be happening in the city.\n",
      "\n",
      "10. **Relaxation**: Simply find a nice spot to relax, read a book, or people-watch in one of the city's many public spaces.\n",
      "\n",
      "Remember to wear sunscreen and stay hydrated while you're out enjoying the day!\u001b[0m\n",
      "\n",
      "\u001b[1m> Finished chain.\u001b[0m\n",
      "🌤️ Weather: The weather in New York today is 22°C and sunny. Enjoy the beautiful day!\n",
      "🎯 Suggestion: Given the lovely weather in New York today, here are some suggestions for activities you might enjoy:\n",
      "\n",
      "1. **Visit a Park**: Central Park is always a great choice for a sunny day. You can take a leisurely walk, have a picnic, or rent a bike and explore the many trails.\n",
      "\n",
      "2. **Outdoor Sightseeing**: Take advantage of the clear skies to visit landmarks such as the Statue of Liberty, the High Line, or take a walk across the Brooklyn Bridge for stunning views of the Manhattan skyline.\n",
      "\n",
      "3. **Rooftop Bars or Restaurants**: Enjoy lunch or an early dinner at a rooftop bar or restaurant to soak in the sun and the city atmosphere.\n",
      "\n",
      "4. **Botanical Gardens**: The New York Botanical Garden or the Brooklyn Botanic Garden are beautiful places to see plants and flowers in bloom.\n",
      "\n",
      "5. **Outdoor Markets**: Check out outdoor markets like the Union Square Greenmarket or Smorgasburg for some local food and shopping.\n",
      "\n",
      "6. **Boat Ride**: Take a boat tour around Manhattan or rent a kayak to paddle around in the Hudson River or East River.\n",
      "\n",
      "7. **Outdoor Sports**: Play some outdoor sports like tennis, basketball, or even just throwing a frisbee in a local park.\n",
      "\n",
      "8. **Photography**: Capture the beauty of the city with your camera. Sunny days provide excellent lighting for photography.\n",
      "\n",
      "9. **Street Fairs and Festivals**: Look for any street fairs, festivals, or outdoor events that might be happening in the city.\n",
      "\n",
      "10. **Relaxation**: Simply find a nice spot to relax, read a book, or people-watch in one of the city's many public spaces.\n",
      "\n",
      "Remember to wear sunscreen and stay hydrated while you're out enjoying the day!\n"
     ]
    }
   ],
   "source": [
    "#Step 3: Compose Full Agent Workflow\n",
    "# Initialize the agent using the OpenAI Functions style\n",
    "agent = initialize_agent(\n",
    "    tools=[get_weather],\n",
    "    llm=llm,\n",
    "    agent=AgentType.OPENAI_FUNCTIONS,\n",
    "    verbose=True,\n",
    ")\n",
    "\n",
    "try:\n",
    "    weather = agent.run(\"What’s the weather in New York today?\")\n",
    "    suggestion = agent.run(f\"Based on this: {weather}, what should I do today?\")\n",
    "    print(\"🌤️ Weather:\", weather)\n",
    "    print(\"🎯 Suggestion:\", suggestion)\n",
    "except Exception as e:\n",
    "    print(\"⚠️ Something went wrong:\", e)"
   ]
  },
  {
   "cell_type": "code",
   "execution_count": null,
   "id": "4835f59d",
   "metadata": {},
   "outputs": [],
   "source": []
  }
 ],
 "metadata": {
  "kernelspec": {
   "display_name": "agentsai",
   "language": "python",
   "name": "python3"
  },
  "language_info": {
   "codemirror_mode": {
    "name": "ipython",
    "version": 3
   },
   "file_extension": ".py",
   "mimetype": "text/x-python",
   "name": "python",
   "nbconvert_exporter": "python",
   "pygments_lexer": "ipython3",
   "version": "3.10.0"
  }
 },
 "nbformat": 4,
 "nbformat_minor": 5
}
